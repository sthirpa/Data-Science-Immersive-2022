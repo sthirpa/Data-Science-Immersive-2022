{
 "cells": [
  {
   "cell_type": "code",
   "execution_count": 50,
   "id": "fd504105-534d-43e0-a37c-ae938d0925bd",
   "metadata": {},
   "outputs": [],
   "source": [
    "import pandas as pd"
   ]
  },
  {
   "cell_type": "code",
   "execution_count": 51,
   "id": "fbedbf40-d0f7-46fd-9df9-b3cfdc29e3fb",
   "metadata": {},
   "outputs": [
    {
     "data": {
      "text/html": [
       "<div>\n",
       "<style scoped>\n",
       "    .dataframe tbody tr th:only-of-type {\n",
       "        vertical-align: middle;\n",
       "    }\n",
       "\n",
       "    .dataframe tbody tr th {\n",
       "        vertical-align: top;\n",
       "    }\n",
       "\n",
       "    .dataframe thead th {\n",
       "        text-align: right;\n",
       "    }\n",
       "</style>\n",
       "<table border=\"1\" class=\"dataframe\">\n",
       "  <thead>\n",
       "    <tr style=\"text-align: right;\">\n",
       "      <th></th>\n",
       "      <th>FIPS</th>\n",
       "      <th>State</th>\n",
       "      <th>Year</th>\n",
       "      <th>Month</th>\n",
       "      <th>Employable Population</th>\n",
       "      <th>Employed</th>\n",
       "      <th>Unemployed</th>\n",
       "    </tr>\n",
       "  </thead>\n",
       "  <tbody>\n",
       "    <tr>\n",
       "      <th>0</th>\n",
       "      <td>1</td>\n",
       "      <td>Alabama</td>\n",
       "      <td>1976</td>\n",
       "      <td>1</td>\n",
       "      <td>1,492,409</td>\n",
       "      <td>1,392,154</td>\n",
       "      <td>100,255</td>\n",
       "    </tr>\n",
       "    <tr>\n",
       "      <th>1</th>\n",
       "      <td>2</td>\n",
       "      <td>Alaska</td>\n",
       "      <td>1976</td>\n",
       "      <td>1</td>\n",
       "      <td>159,154</td>\n",
       "      <td>147,809</td>\n",
       "      <td>11,345</td>\n",
       "    </tr>\n",
       "    <tr>\n",
       "      <th>2</th>\n",
       "      <td>4</td>\n",
       "      <td>Arizona</td>\n",
       "      <td>1976</td>\n",
       "      <td>1</td>\n",
       "      <td>972,413</td>\n",
       "      <td>872,738</td>\n",
       "      <td>99,675</td>\n",
       "    </tr>\n",
       "    <tr>\n",
       "      <th>3</th>\n",
       "      <td>5</td>\n",
       "      <td>Arkansas</td>\n",
       "      <td>1976</td>\n",
       "      <td>1</td>\n",
       "      <td>882,835</td>\n",
       "      <td>817,756</td>\n",
       "      <td>65,079</td>\n",
       "    </tr>\n",
       "    <tr>\n",
       "      <th>4</th>\n",
       "      <td>6</td>\n",
       "      <td>California</td>\n",
       "      <td>1976</td>\n",
       "      <td>1</td>\n",
       "      <td>9,781,720</td>\n",
       "      <td>8,892,663</td>\n",
       "      <td>889,057</td>\n",
       "    </tr>\n",
       "  </tbody>\n",
       "</table>\n",
       "</div>"
      ],
      "text/plain": [
       "   FIPS       State  Year  Month Employable Population      Employed  \\\n",
       "0     1     Alabama  1976      1          1,492,409     1,392,154      \n",
       "1     2      Alaska  1976      1            159,154       147,809      \n",
       "2     4     Arizona  1976      1            972,413       872,738      \n",
       "3     5    Arkansas  1976      1            882,835       817,756      \n",
       "4     6  California  1976      1          9,781,720     8,892,663      \n",
       "\n",
       "   Unemployed  \n",
       "0  100,255     \n",
       "1   11,345     \n",
       "2   99,675     \n",
       "3   65,079     \n",
       "4  889,057     "
      ]
     },
     "execution_count": 51,
     "metadata": {},
     "output_type": "execute_result"
    }
   ],
   "source": [
    "df = pd.read_csv('un-emp.csv')\n",
    "df.head()"
   ]
  },
  {
   "cell_type": "code",
   "execution_count": 52,
   "id": "cfc51f67-9e9e-4c7d-b5b3-9edebb6dac2a",
   "metadata": {},
   "outputs": [
    {
     "data": {
      "text/plain": [
       "Index(['State', 'Year', 'Month', 'Employed', 'Unemployed'], dtype='object')"
      ]
     },
     "execution_count": 52,
     "metadata": {},
     "output_type": "execute_result"
    }
   ],
   "source": [
    "df.drop(columns = ['FIPS', 'Employable Population'], inplace = True)\n",
    "df.columns"
   ]
  },
  {
   "cell_type": "code",
   "execution_count": 53,
   "id": "7c2807b8-f06f-4959-a7af-f538c5f28a72",
   "metadata": {},
   "outputs": [
    {
     "name": "stdout",
     "output_type": "stream",
     "text": [
      "<class 'pandas.core.frame.DataFrame'>\n",
      "RangeIndex: 27387 entries, 0 to 27386\n",
      "Data columns (total 5 columns):\n",
      " #   Column      Non-Null Count  Dtype \n",
      "---  ------      --------------  ----- \n",
      " 0   State       27387 non-null  object\n",
      " 1   Year        27387 non-null  int64 \n",
      " 2   Month       27387 non-null  int64 \n",
      " 3   Employed    27387 non-null  object\n",
      " 4   Unemployed  27387 non-null  object\n",
      "dtypes: int64(2), object(3)\n",
      "memory usage: 1.0+ MB\n"
     ]
    }
   ],
   "source": [
    "df.info()"
   ]
  },
  {
   "cell_type": "code",
   "execution_count": 54,
   "id": "ebcfdf7b-1e07-4df8-92f9-16524a2fb8bc",
   "metadata": {},
   "outputs": [
    {
     "data": {
      "text/plain": [
       "(27387, 5)"
      ]
     },
     "execution_count": 54,
     "metadata": {},
     "output_type": "execute_result"
    }
   ],
   "source": [
    "df.shape"
   ]
  },
  {
   "cell_type": "code",
   "execution_count": 55,
   "id": "905238e5-8713-459a-acf2-3763261a36ad",
   "metadata": {},
   "outputs": [
    {
     "data": {
      "text/plain": [
       "State         0\n",
       "Year          0\n",
       "Month         0\n",
       "Employed      0\n",
       "Unemployed    0\n",
       "dtype: int64"
      ]
     },
     "execution_count": 55,
     "metadata": {},
     "output_type": "execute_result"
    }
   ],
   "source": [
    "df.isna().sum()"
   ]
  },
  {
   "cell_type": "markdown",
   "id": "96e399ff-a1aa-46c7-87f1-d5dd5f4741f4",
   "metadata": {},
   "source": [
    "#### Turn Employement and Unemployement columns into numeric type. The problem is each number is a string with empty spaces at the end like such: '1,392,154_ _'"
   ]
  },
  {
   "cell_type": "code",
   "execution_count": 56,
   "id": "e1fe69c8-da2a-4f4f-8bb1-d68818e2fc23",
   "metadata": {},
   "outputs": [
    {
     "name": "stdout",
     "output_type": "stream",
     "text": [
      "State : ['Wyoming', 'Wisconsin', 'West Virginia']\n",
      "Year : [2020, 2019, 2018]\n",
      "Month : [12, 11, 10]\n",
      "Employed : ['999,943', '999,512', '999,458']\n",
      "Unemployed : ['999,867', '999,827', '999,785']\n"
     ]
    }
   ],
   "source": [
    "#code from: https://pretagteam.com/question/apply-strip-a-column-in-pandas\n",
    "\n",
    "df[['Employed']] = df['Employed'].apply(lambda x: x.rstrip())\n",
    "df[['Unemployed']] = df['Unemployed'].apply(lambda x: x.rstrip())\n",
    "\n",
    "# Looking for unique values in object type columns\n",
    "for column in df:\n",
    "    print(f'{column} : {sorted(list(df[column].unique()), reverse = True)[0:3]}')"
   ]
  },
  {
   "cell_type": "code",
   "execution_count": 57,
   "id": "11dacf19-bbe9-4d41-999e-1eb203abaeb5",
   "metadata": {},
   "outputs": [
    {
     "data": {
      "text/html": [
       "<div>\n",
       "<style scoped>\n",
       "    .dataframe tbody tr th:only-of-type {\n",
       "        vertical-align: middle;\n",
       "    }\n",
       "\n",
       "    .dataframe tbody tr th {\n",
       "        vertical-align: top;\n",
       "    }\n",
       "\n",
       "    .dataframe thead th {\n",
       "        text-align: right;\n",
       "    }\n",
       "</style>\n",
       "<table border=\"1\" class=\"dataframe\">\n",
       "  <thead>\n",
       "    <tr style=\"text-align: right;\">\n",
       "      <th></th>\n",
       "      <th>State</th>\n",
       "      <th>Year</th>\n",
       "      <th>Month</th>\n",
       "      <th>Employed</th>\n",
       "      <th>Unemployed</th>\n",
       "    </tr>\n",
       "  </thead>\n",
       "  <tbody>\n",
       "    <tr>\n",
       "      <th>0</th>\n",
       "      <td>Alabama</td>\n",
       "      <td>1976</td>\n",
       "      <td>1</td>\n",
       "      <td>1392154</td>\n",
       "      <td>100255</td>\n",
       "    </tr>\n",
       "    <tr>\n",
       "      <th>1</th>\n",
       "      <td>Alaska</td>\n",
       "      <td>1976</td>\n",
       "      <td>1</td>\n",
       "      <td>147809</td>\n",
       "      <td>11345</td>\n",
       "    </tr>\n",
       "    <tr>\n",
       "      <th>2</th>\n",
       "      <td>Arizona</td>\n",
       "      <td>1976</td>\n",
       "      <td>1</td>\n",
       "      <td>872738</td>\n",
       "      <td>99675</td>\n",
       "    </tr>\n",
       "    <tr>\n",
       "      <th>3</th>\n",
       "      <td>Arkansas</td>\n",
       "      <td>1976</td>\n",
       "      <td>1</td>\n",
       "      <td>817756</td>\n",
       "      <td>65079</td>\n",
       "    </tr>\n",
       "    <tr>\n",
       "      <th>4</th>\n",
       "      <td>California</td>\n",
       "      <td>1976</td>\n",
       "      <td>1</td>\n",
       "      <td>8892663</td>\n",
       "      <td>889057</td>\n",
       "    </tr>\n",
       "  </tbody>\n",
       "</table>\n",
       "</div>"
      ],
      "text/plain": [
       "        State  Year  Month Employed Unemployed\n",
       "0     Alabama  1976      1  1392154     100255\n",
       "1      Alaska  1976      1   147809      11345\n",
       "2     Arizona  1976      1   872738      99675\n",
       "3    Arkansas  1976      1   817756      65079\n",
       "4  California  1976      1  8892663     889057"
      ]
     },
     "execution_count": 57,
     "metadata": {},
     "output_type": "execute_result"
    }
   ],
   "source": [
    "# Stripping commas so I can convert into numeric type\n",
    "\n",
    "df[['Employed']] = df['Employed'].apply(lambda x: x.replace(',' , ''))\n",
    "df[['Unemployed']] = df['Unemployed'].apply(lambda x: x.replace(',' , ''))\n",
    "\n",
    "df.head()"
   ]
  },
  {
   "cell_type": "code",
   "execution_count": 58,
   "id": "83057145-037c-4d0b-9aad-b1355851a8b8",
   "metadata": {},
   "outputs": [
    {
     "name": "stdout",
     "output_type": "stream",
     "text": [
      "<class 'pandas.core.frame.DataFrame'>\n",
      "RangeIndex: 27387 entries, 0 to 27386\n",
      "Data columns (total 5 columns):\n",
      " #   Column      Non-Null Count  Dtype \n",
      "---  ------      --------------  ----- \n",
      " 0   State       27387 non-null  object\n",
      " 1   Year        27387 non-null  int64 \n",
      " 2   Month       27387 non-null  int64 \n",
      " 3   Employed    27387 non-null  int64 \n",
      " 4   Unemployed  27387 non-null  int64 \n",
      "dtypes: int64(4), object(1)\n",
      "memory usage: 1.0+ MB\n"
     ]
    }
   ],
   "source": [
    "# convert string to an integer\n",
    "df[['Employed']] = df['Employed'].astype(int)\n",
    "df[['Unemployed']] = df['Unemployed'].astype(int)\n",
    "\n",
    "df.info()"
   ]
  },
  {
   "cell_type": "code",
   "execution_count": 59,
   "id": "f6c82c15-4d6d-4f62-b0c2-ebddd1ab529a",
   "metadata": {},
   "outputs": [],
   "source": [
    "df.to_csv('df_hans_employment.csv')"
   ]
  },
  {
   "cell_type": "code",
   "execution_count": null,
   "id": "97ccb184-413b-4f35-81a4-957743939d99",
   "metadata": {},
   "outputs": [],
   "source": []
  }
 ],
 "metadata": {
  "kernelspec": {
   "display_name": "Python 3",
   "language": "python",
   "name": "python3"
  },
  "language_info": {
   "codemirror_mode": {
    "name": "ipython",
    "version": 3
   },
   "file_extension": ".py",
   "mimetype": "text/x-python",
   "name": "python",
   "nbconvert_exporter": "python",
   "pygments_lexer": "ipython3",
   "version": "3.8.8"
  }
 },
 "nbformat": 4,
 "nbformat_minor": 5
}
