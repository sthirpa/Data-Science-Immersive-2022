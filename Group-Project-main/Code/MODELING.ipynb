{
 "cells": [
  {
   "cell_type": "markdown",
   "id": "664eae5b-fb93-4cc0-b4fd-2515bd436c7a",
   "metadata": {},
   "source": [
    "# Modeling"
   ]
  },
  {
   "cell_type": "code",
   "execution_count": 1,
   "id": "541d5084-48eb-472b-81f8-3d5f632a0d68",
   "metadata": {},
   "outputs": [],
   "source": [
    "# Imports\n",
    "import numpy as np\n",
    "import pandas as pd\n",
    "import seaborn as sns\n",
    "import matplotlib.pyplot as plt\n",
    "%matplotlib inline\n",
    "\n",
    "from sklearn.linear_model import LinearRegression, Ridge, RidgeCV, Lasso, LassoCV, ElasticNet, ElasticNetCV\n",
    "from sklearn.neighbors import KNeighborsRegressor\n",
    "from sklearn.ensemble import RandomForestRegressor, AdaBoostRegressor, GradientBoostingRegressor\n",
    "from sklearn.model_selection import train_test_split, GridSearchCV, cross_val_score, RandomizedSearchCV, cross_val_predict\n",
    "from sklearn.pipeline import Pipeline\n",
    "from sklearn.metrics import confusion_matrix, plot_confusion_matrix, classification_report, mean_squared_error, r2_score, mean_absolute_error\n",
    "from sklearn.preprocessing import StandardScaler, OneHotEncoder, PolynomialFeatures\n",
    "from sklearn.compose import ColumnTransformer, make_column_selector, make_column_transformer\n",
    "from sklearn.svm import SVR\n",
    "from sklearn import metrics\n",
    "from skopt import BayesSearchCV\n",
    "# pip install scikit-optimize\n",
    "\n",
    "import pickle\n",
    "import datetime"
   ]
  },
  {
   "cell_type": "markdown",
   "id": "da072e57-7f9d-4212-946e-370a7c206a58",
   "metadata": {},
   "source": [
    "## Hans"
   ]
  },
  {
   "cell_type": "markdown",
   "id": "eab4dc5c-645f-4298-acb6-3b483f5dfb44",
   "metadata": {},
   "source": [
    "### SVM Model"
   ]
  },
  {
   "cell_type": "code",
   "execution_count": 2,
   "id": "0c685139-75e7-4a0f-ab36-fbff8418e106",
   "metadata": {},
   "outputs": [
    {
     "data": {
      "text/html": [
       "<div>\n",
       "<style scoped>\n",
       "    .dataframe tbody tr th:only-of-type {\n",
       "        vertical-align: middle;\n",
       "    }\n",
       "\n",
       "    .dataframe tbody tr th {\n",
       "        vertical-align: top;\n",
       "    }\n",
       "\n",
       "    .dataframe thead th {\n",
       "        text-align: right;\n",
       "    }\n",
       "</style>\n",
       "<table border=\"1\" class=\"dataframe\">\n",
       "  <thead>\n",
       "    <tr style=\"text-align: right;\">\n",
       "      <th></th>\n",
       "      <th>timestamp</th>\n",
       "      <th>company</th>\n",
       "      <th>level</th>\n",
       "      <th>title</th>\n",
       "      <th>totalyearlycompensation</th>\n",
       "      <th>location</th>\n",
       "      <th>yearsofexperience</th>\n",
       "      <th>yearsatcompany</th>\n",
       "      <th>tag</th>\n",
       "      <th>year</th>\n",
       "      <th>month</th>\n",
       "      <th>year_month</th>\n",
       "      <th>timestamp_3mos</th>\n",
       "      <th>year_month_3mos</th>\n",
       "      <th>state_short</th>\n",
       "      <th>inflation_rate</th>\n",
       "      <th>inflation_rate_3mos</th>\n",
       "      <th>state</th>\n",
       "      <th>employment_rate</th>\n",
       "      <th>employment_rate_3mos</th>\n",
       "    </tr>\n",
       "  </thead>\n",
       "  <tbody>\n",
       "    <tr>\n",
       "      <th>0</th>\n",
       "      <td>2018-06-03 13:58:20</td>\n",
       "      <td>Yahoo</td>\n",
       "      <td>IC2</td>\n",
       "      <td>Software Engineer</td>\n",
       "      <td>160.5</td>\n",
       "      <td>Sunnyvale, CA</td>\n",
       "      <td>0.58</td>\n",
       "      <td>0.58</td>\n",
       "      <td>Full Stack</td>\n",
       "      <td>2018</td>\n",
       "      <td>6</td>\n",
       "      <td>2018-06</td>\n",
       "      <td>2018-03-03 13:58:20</td>\n",
       "      <td>2018-03</td>\n",
       "      <td>CA</td>\n",
       "      <td>0.029</td>\n",
       "      <td>0.024</td>\n",
       "      <td>California</td>\n",
       "      <td>0.957660</td>\n",
       "      <td>0.956797</td>\n",
       "    </tr>\n",
       "    <tr>\n",
       "      <th>1</th>\n",
       "      <td>2018-06-04 20:28:22</td>\n",
       "      <td>Facebook</td>\n",
       "      <td>E3</td>\n",
       "      <td>Software Engineer</td>\n",
       "      <td>165.0</td>\n",
       "      <td>Seattle, WA</td>\n",
       "      <td>1.00</td>\n",
       "      <td>1.00</td>\n",
       "      <td>Full Stack</td>\n",
       "      <td>2018</td>\n",
       "      <td>6</td>\n",
       "      <td>2018-06</td>\n",
       "      <td>2018-03-04 20:28:22</td>\n",
       "      <td>2018-03</td>\n",
       "      <td>WA</td>\n",
       "      <td>0.029</td>\n",
       "      <td>0.024</td>\n",
       "      <td>Washington</td>\n",
       "      <td>0.955998</td>\n",
       "      <td>0.954978</td>\n",
       "    </tr>\n",
       "    <tr>\n",
       "      <th>2</th>\n",
       "      <td>2018-06-05 00:56:33</td>\n",
       "      <td>VmWare</td>\n",
       "      <td>Senior MTS</td>\n",
       "      <td>Software Engineer</td>\n",
       "      <td>218.0</td>\n",
       "      <td>Palo Alto, CA</td>\n",
       "      <td>8.00</td>\n",
       "      <td>1.00</td>\n",
       "      <td>Distributed Systems (Back-End)</td>\n",
       "      <td>2018</td>\n",
       "      <td>6</td>\n",
       "      <td>2018-06</td>\n",
       "      <td>2018-03-05 00:56:33</td>\n",
       "      <td>2018-03</td>\n",
       "      <td>CA</td>\n",
       "      <td>0.029</td>\n",
       "      <td>0.024</td>\n",
       "      <td>California</td>\n",
       "      <td>0.957660</td>\n",
       "      <td>0.956797</td>\n",
       "    </tr>\n",
       "    <tr>\n",
       "      <th>3</th>\n",
       "      <td>2018-06-05 01:19:05</td>\n",
       "      <td>Uber</td>\n",
       "      <td>L4</td>\n",
       "      <td>Software Engineer</td>\n",
       "      <td>240.0</td>\n",
       "      <td>San Francisco, CA</td>\n",
       "      <td>3.00</td>\n",
       "      <td>0.00</td>\n",
       "      <td>Web Development (Front-End)</td>\n",
       "      <td>2018</td>\n",
       "      <td>6</td>\n",
       "      <td>2018-06</td>\n",
       "      <td>2018-03-05 01:19:05</td>\n",
       "      <td>2018-03</td>\n",
       "      <td>CA</td>\n",
       "      <td>0.029</td>\n",
       "      <td>0.024</td>\n",
       "      <td>California</td>\n",
       "      <td>0.957660</td>\n",
       "      <td>0.956797</td>\n",
       "    </tr>\n",
       "    <tr>\n",
       "      <th>4</th>\n",
       "      <td>2018-06-05 07:13:17</td>\n",
       "      <td>Capital One</td>\n",
       "      <td>Master Software Engineer</td>\n",
       "      <td>Software Engineer</td>\n",
       "      <td>196.0</td>\n",
       "      <td>New York, NY</td>\n",
       "      <td>8.00</td>\n",
       "      <td>2.00</td>\n",
       "      <td>iOS</td>\n",
       "      <td>2018</td>\n",
       "      <td>6</td>\n",
       "      <td>2018-06</td>\n",
       "      <td>2018-03-05 07:13:17</td>\n",
       "      <td>2018-03</td>\n",
       "      <td>NY</td>\n",
       "      <td>0.029</td>\n",
       "      <td>0.024</td>\n",
       "      <td>New York</td>\n",
       "      <td>0.959053</td>\n",
       "      <td>0.955962</td>\n",
       "    </tr>\n",
       "  </tbody>\n",
       "</table>\n",
       "</div>"
      ],
      "text/plain": [
       "             timestamp      company                     level  \\\n",
       "0  2018-06-03 13:58:20        Yahoo                       IC2   \n",
       "1  2018-06-04 20:28:22     Facebook                        E3   \n",
       "2  2018-06-05 00:56:33       VmWare                Senior MTS   \n",
       "3  2018-06-05 01:19:05         Uber                        L4   \n",
       "4  2018-06-05 07:13:17  Capital One  Master Software Engineer   \n",
       "\n",
       "               title  totalyearlycompensation           location  \\\n",
       "0  Software Engineer                    160.5      Sunnyvale, CA   \n",
       "1  Software Engineer                    165.0        Seattle, WA   \n",
       "2  Software Engineer                    218.0      Palo Alto, CA   \n",
       "3  Software Engineer                    240.0  San Francisco, CA   \n",
       "4  Software Engineer                    196.0       New York, NY   \n",
       "\n",
       "   yearsofexperience  yearsatcompany                             tag  year  \\\n",
       "0               0.58            0.58                      Full Stack  2018   \n",
       "1               1.00            1.00                      Full Stack  2018   \n",
       "2               8.00            1.00  Distributed Systems (Back-End)  2018   \n",
       "3               3.00            0.00     Web Development (Front-End)  2018   \n",
       "4               8.00            2.00                             iOS  2018   \n",
       "\n",
       "   month year_month       timestamp_3mos year_month_3mos state_short  \\\n",
       "0      6    2018-06  2018-03-03 13:58:20         2018-03          CA   \n",
       "1      6    2018-06  2018-03-04 20:28:22         2018-03          WA   \n",
       "2      6    2018-06  2018-03-05 00:56:33         2018-03          CA   \n",
       "3      6    2018-06  2018-03-05 01:19:05         2018-03          CA   \n",
       "4      6    2018-06  2018-03-05 07:13:17         2018-03          NY   \n",
       "\n",
       "   inflation_rate  inflation_rate_3mos       state  employment_rate  \\\n",
       "0           0.029                0.024  California         0.957660   \n",
       "1           0.029                0.024  Washington         0.955998   \n",
       "2           0.029                0.024  California         0.957660   \n",
       "3           0.029                0.024  California         0.957660   \n",
       "4           0.029                0.024    New York         0.959053   \n",
       "\n",
       "   employment_rate_3mos  \n",
       "0              0.956797  \n",
       "1              0.954978  \n",
       "2              0.956797  \n",
       "3              0.956797  \n",
       "4              0.955962  "
      ]
     },
     "execution_count": 2,
     "metadata": {},
     "output_type": "execute_result"
    }
   ],
   "source": [
    "df = pd.read_csv('../Data/salary_cleaned.csv')\n",
    "df.head()"
   ]
  },
  {
   "cell_type": "code",
   "execution_count": 3,
   "id": "fb0dc18e-20c2-49d6-96fc-6782978f3c57",
   "metadata": {},
   "outputs": [],
   "source": [
    "df.drop(columns = ['level', 'timestamp', 'location', 'timestamp_3mos', 'state'], inplace = True)"
   ]
  },
  {
   "cell_type": "code",
   "execution_count": 4,
   "id": "0f1dc7f3-e008-4e4c-99da-b7fc70e7461b",
   "metadata": {},
   "outputs": [
    {
     "data": {
      "text/plain": [
       "Index(['company', 'title', 'totalyearlycompensation', 'yearsofexperience',\n",
       "       'yearsatcompany', 'tag', 'year', 'month', 'year_month',\n",
       "       'year_month_3mos', 'state_short', 'inflation_rate',\n",
       "       'inflation_rate_3mos', 'employment_rate', 'employment_rate_3mos'],\n",
       "      dtype='object')"
      ]
     },
     "execution_count": 4,
     "metadata": {},
     "output_type": "execute_result"
    }
   ],
   "source": [
    "df.columns"
   ]
  },
  {
   "cell_type": "code",
   "execution_count": 5,
   "id": "5bd22e71-9c0d-4f19-9eb0-ed074ba9224e",
   "metadata": {},
   "outputs": [
    {
     "name": "stdout",
     "output_type": "stream",
     "text": [
      "<class 'pandas.core.frame.DataFrame'>\n",
      "RangeIndex: 24496 entries, 0 to 24495\n",
      "Data columns (total 15 columns):\n",
      " #   Column                   Non-Null Count  Dtype  \n",
      "---  ------                   --------------  -----  \n",
      " 0   company                  24496 non-null  object \n",
      " 1   title                    24496 non-null  object \n",
      " 2   totalyearlycompensation  24496 non-null  float64\n",
      " 3   yearsofexperience        24496 non-null  float64\n",
      " 4   yearsatcompany           24496 non-null  float64\n",
      " 5   tag                      24496 non-null  object \n",
      " 6   year                     24496 non-null  int64  \n",
      " 7   month                    24496 non-null  int64  \n",
      " 8   year_month               24496 non-null  object \n",
      " 9   year_month_3mos          24496 non-null  object \n",
      " 10  state_short              24496 non-null  object \n",
      " 11  inflation_rate           24496 non-null  float64\n",
      " 12  inflation_rate_3mos      24496 non-null  float64\n",
      " 13  employment_rate          24496 non-null  float64\n",
      " 14  employment_rate_3mos     24496 non-null  float64\n",
      "dtypes: float64(7), int64(2), object(6)\n",
      "memory usage: 2.8+ MB\n"
     ]
    }
   ],
   "source": [
    "df.info()"
   ]
  },
  {
   "cell_type": "code",
   "execution_count": 6,
   "id": "5b4bf8af-8e88-4006-bbad-8bd6a0954914",
   "metadata": {},
   "outputs": [
    {
     "data": {
      "text/html": [
       "<div>\n",
       "<style scoped>\n",
       "    .dataframe tbody tr th:only-of-type {\n",
       "        vertical-align: middle;\n",
       "    }\n",
       "\n",
       "    .dataframe tbody tr th {\n",
       "        vertical-align: top;\n",
       "    }\n",
       "\n",
       "    .dataframe thead th {\n",
       "        text-align: right;\n",
       "    }\n",
       "</style>\n",
       "<table border=\"1\" class=\"dataframe\">\n",
       "  <thead>\n",
       "    <tr style=\"text-align: right;\">\n",
       "      <th></th>\n",
       "      <th>yearsofexperience</th>\n",
       "      <th>yearsatcompany</th>\n",
       "      <th>year</th>\n",
       "      <th>month</th>\n",
       "      <th>inflation_rate</th>\n",
       "      <th>inflation_rate_3mos</th>\n",
       "      <th>employment_rate</th>\n",
       "      <th>employment_rate_3mos</th>\n",
       "      <th>company_ Credit Karma</th>\n",
       "      <th>company_23andMe</th>\n",
       "      <th>...</th>\n",
       "      <th>state_short_RI</th>\n",
       "      <th>state_short_SC</th>\n",
       "      <th>state_short_TN</th>\n",
       "      <th>state_short_TX</th>\n",
       "      <th>state_short_UT</th>\n",
       "      <th>state_short_VA</th>\n",
       "      <th>state_short_VT</th>\n",
       "      <th>state_short_WA</th>\n",
       "      <th>state_short_WI</th>\n",
       "      <th>state_short_WV</th>\n",
       "    </tr>\n",
       "  </thead>\n",
       "  <tbody>\n",
       "    <tr>\n",
       "      <th>0</th>\n",
       "      <td>0.58</td>\n",
       "      <td>0.58</td>\n",
       "      <td>2018</td>\n",
       "      <td>6</td>\n",
       "      <td>0.029</td>\n",
       "      <td>0.024</td>\n",
       "      <td>0.957660</td>\n",
       "      <td>0.956797</td>\n",
       "      <td>0</td>\n",
       "      <td>0</td>\n",
       "      <td>...</td>\n",
       "      <td>0</td>\n",
       "      <td>0</td>\n",
       "      <td>0</td>\n",
       "      <td>0</td>\n",
       "      <td>0</td>\n",
       "      <td>0</td>\n",
       "      <td>0</td>\n",
       "      <td>0</td>\n",
       "      <td>0</td>\n",
       "      <td>0</td>\n",
       "    </tr>\n",
       "    <tr>\n",
       "      <th>1</th>\n",
       "      <td>1.00</td>\n",
       "      <td>1.00</td>\n",
       "      <td>2018</td>\n",
       "      <td>6</td>\n",
       "      <td>0.029</td>\n",
       "      <td>0.024</td>\n",
       "      <td>0.955998</td>\n",
       "      <td>0.954978</td>\n",
       "      <td>0</td>\n",
       "      <td>0</td>\n",
       "      <td>...</td>\n",
       "      <td>0</td>\n",
       "      <td>0</td>\n",
       "      <td>0</td>\n",
       "      <td>0</td>\n",
       "      <td>0</td>\n",
       "      <td>0</td>\n",
       "      <td>0</td>\n",
       "      <td>1</td>\n",
       "      <td>0</td>\n",
       "      <td>0</td>\n",
       "    </tr>\n",
       "    <tr>\n",
       "      <th>2</th>\n",
       "      <td>8.00</td>\n",
       "      <td>1.00</td>\n",
       "      <td>2018</td>\n",
       "      <td>6</td>\n",
       "      <td>0.029</td>\n",
       "      <td>0.024</td>\n",
       "      <td>0.957660</td>\n",
       "      <td>0.956797</td>\n",
       "      <td>0</td>\n",
       "      <td>0</td>\n",
       "      <td>...</td>\n",
       "      <td>0</td>\n",
       "      <td>0</td>\n",
       "      <td>0</td>\n",
       "      <td>0</td>\n",
       "      <td>0</td>\n",
       "      <td>0</td>\n",
       "      <td>0</td>\n",
       "      <td>0</td>\n",
       "      <td>0</td>\n",
       "      <td>0</td>\n",
       "    </tr>\n",
       "    <tr>\n",
       "      <th>3</th>\n",
       "      <td>3.00</td>\n",
       "      <td>0.00</td>\n",
       "      <td>2018</td>\n",
       "      <td>6</td>\n",
       "      <td>0.029</td>\n",
       "      <td>0.024</td>\n",
       "      <td>0.957660</td>\n",
       "      <td>0.956797</td>\n",
       "      <td>0</td>\n",
       "      <td>0</td>\n",
       "      <td>...</td>\n",
       "      <td>0</td>\n",
       "      <td>0</td>\n",
       "      <td>0</td>\n",
       "      <td>0</td>\n",
       "      <td>0</td>\n",
       "      <td>0</td>\n",
       "      <td>0</td>\n",
       "      <td>0</td>\n",
       "      <td>0</td>\n",
       "      <td>0</td>\n",
       "    </tr>\n",
       "    <tr>\n",
       "      <th>4</th>\n",
       "      <td>8.00</td>\n",
       "      <td>2.00</td>\n",
       "      <td>2018</td>\n",
       "      <td>6</td>\n",
       "      <td>0.029</td>\n",
       "      <td>0.024</td>\n",
       "      <td>0.959053</td>\n",
       "      <td>0.955962</td>\n",
       "      <td>0</td>\n",
       "      <td>0</td>\n",
       "      <td>...</td>\n",
       "      <td>0</td>\n",
       "      <td>0</td>\n",
       "      <td>0</td>\n",
       "      <td>0</td>\n",
       "      <td>0</td>\n",
       "      <td>0</td>\n",
       "      <td>0</td>\n",
       "      <td>0</td>\n",
       "      <td>0</td>\n",
       "      <td>0</td>\n",
       "    </tr>\n",
       "  </tbody>\n",
       "</table>\n",
       "<p>5 rows × 1351 columns</p>\n",
       "</div>"
      ],
      "text/plain": [
       "   yearsofexperience  yearsatcompany  year  month  inflation_rate  \\\n",
       "0               0.58            0.58  2018      6           0.029   \n",
       "1               1.00            1.00  2018      6           0.029   \n",
       "2               8.00            1.00  2018      6           0.029   \n",
       "3               3.00            0.00  2018      6           0.029   \n",
       "4               8.00            2.00  2018      6           0.029   \n",
       "\n",
       "   inflation_rate_3mos  employment_rate  employment_rate_3mos  \\\n",
       "0                0.024         0.957660              0.956797   \n",
       "1                0.024         0.955998              0.954978   \n",
       "2                0.024         0.957660              0.956797   \n",
       "3                0.024         0.957660              0.956797   \n",
       "4                0.024         0.959053              0.955962   \n",
       "\n",
       "   company_ Credit Karma  company_23andMe  ...  state_short_RI  \\\n",
       "0                      0                0  ...               0   \n",
       "1                      0                0  ...               0   \n",
       "2                      0                0  ...               0   \n",
       "3                      0                0  ...               0   \n",
       "4                      0                0  ...               0   \n",
       "\n",
       "   state_short_SC  state_short_TN  state_short_TX  state_short_UT  \\\n",
       "0               0               0               0               0   \n",
       "1               0               0               0               0   \n",
       "2               0               0               0               0   \n",
       "3               0               0               0               0   \n",
       "4               0               0               0               0   \n",
       "\n",
       "   state_short_VA  state_short_VT  state_short_WA  state_short_WI  \\\n",
       "0               0               0               0               0   \n",
       "1               0               0               1               0   \n",
       "2               0               0               0               0   \n",
       "3               0               0               0               0   \n",
       "4               0               0               0               0   \n",
       "\n",
       "   state_short_WV  \n",
       "0               0  \n",
       "1               0  \n",
       "2               0  \n",
       "3               0  \n",
       "4               0  \n",
       "\n",
       "[5 rows x 1351 columns]"
      ]
     },
     "execution_count": 6,
     "metadata": {},
     "output_type": "execute_result"
    }
   ],
   "source": [
    "X = df[['company', 'title', 'yearsofexperience', 'yearsatcompany', 'year', 'month', 'state_short', 'inflation_rate',\n",
    "            'inflation_rate_3mos', 'employment_rate', 'employment_rate_3mos']].copy()\n",
    "X_dummy = pd.get_dummies(X, columns = ['company', 'title', 'state_short'], drop_first = True)\n",
    "\n",
    "y = df[['totalyearlycompensation']].copy()\n",
    "\n",
    "X_dummy.head()"
   ]
  },
  {
   "cell_type": "code",
   "execution_count": 7,
   "id": "52fe9ebd-6c8f-4bad-9986-98715cfbde06",
   "metadata": {},
   "outputs": [],
   "source": [
    "X_train, X_test, y_train, y_test = train_test_split(X_dummy, y, test_size = 0.2, random_state = 42)"
   ]
  },
  {
   "cell_type": "code",
   "execution_count": 8,
   "id": "65a2b5f0-4e03-411f-92c1-81f1c40095a0",
   "metadata": {},
   "outputs": [],
   "source": [
    "#Feature Scaling\n",
    "\n",
    "sc = StandardScaler()\n",
    "\n",
    "X_train_sc = sc.fit_transform(X_train)\n",
    "X_test_sc = sc.transform(X_test)"
   ]
  },
  {
   "cell_type": "code",
   "execution_count": null,
   "id": "c20f1410-96f2-446f-a96d-aaa01635ed42",
   "metadata": {},
   "outputs": [
    {
     "name": "stderr",
     "output_type": "stream",
     "text": [
      "/opt/anaconda3/envs/dsi-111/lib/python3.8/site-packages/sklearn/utils/validation.py:63: DataConversionWarning: A column-vector y was passed when a 1d array was expected. Please change the shape of y to (n_samples, ), for example using ravel().\n",
      "  return f(*args, **kwargs)\n"
     ]
    }
   ],
   "source": [
    "# Fitting SVR to the dataset\n",
    "\n",
    "svr = SVR()\n",
    "svr.fit(X_train_sc, y_train)"
   ]
  },
  {
   "cell_type": "code",
   "execution_count": null,
   "id": "31b332ff-6965-4167-b81c-96d4c8bab322",
   "metadata": {},
   "outputs": [],
   "source": [
    "# Predictions\n",
    "y_preds = svr.predict(X_test)\n",
    "\n",
    "# Measure performance based on accuracy.\n",
    "print('train score:', svr.score(X_train_sc, y_train))\n",
    "print('test score:', svr.score(X_test, y_test))"
   ]
  },
  {
   "cell_type": "code",
   "execution_count": null,
   "id": "3315bb7f-0247-4112-95a8-e62c4f75b8e6",
   "metadata": {},
   "outputs": [],
   "source": [
    "# Gridsearch:\n",
    "\n",
    "params = {\n",
    "    'C': [0.1, 1, 10, 100],\n",
    "    'kernel': ['rbf'],\n",
    "    'gamma': [0.001, 0.0001]\n",
    "}\n",
    "\n",
    "model = SVR()\n",
    "\n",
    "#Gridsearch:\n",
    "gs = GridSearchCV(model, params, n_jobs=-1, verbose=1)\n",
    "\n",
    "# Fit on training data.\n",
    "gs.fit(X_train_sc, y_train);"
   ]
  },
  {
   "cell_type": "code",
   "execution_count": null,
   "id": "9716dc38-bfa4-46a6-9bdf-d09d0301cc89",
   "metadata": {},
   "outputs": [],
   "source": [
    "gs.best_params_"
   ]
  },
  {
   "cell_type": "code",
   "execution_count": null,
   "id": "af622594-8d03-4bb1-8915-8c8188938872",
   "metadata": {},
   "outputs": [],
   "source": [
    "# Accuracy\n",
    "print(f'Training acc: {gs.score(X_train_sc, y_train)}')\n",
    "print(f'Testing acc: {gs.score(X_test_sc, y_test)}')"
   ]
  },
  {
   "cell_type": "code",
   "execution_count": null,
   "id": "df1d5c0e-b1e2-46d7-b67d-e9c0bb8fd6d5",
   "metadata": {},
   "outputs": [],
   "source": [
    "# Creating Predictions\n",
    "#train_preds = gs.predict(X_train_sc)\n",
    "#test_preds = gs.predict(X_test_sc)"
   ]
  },
  {
   "cell_type": "code",
   "execution_count": null,
   "id": "73eb9a97-3897-4900-84f8-e99966e6f7b5",
   "metadata": {},
   "outputs": [],
   "source": [
    "# DataFrame with column for predicted values.\n",
    "#results = pd.DataFrame(gs.predict(X_test), columns=['predicted'])\n",
    "\n",
    "# Column for observed values.\n",
    "#results['actual'] = y_test\n",
    "\n",
    "#results.head()"
   ]
  },
  {
   "cell_type": "markdown",
   "id": "e02e1fd9-8f20-4300-870a-84f5161084c8",
   "metadata": {},
   "source": [
    "### Neural Networks"
   ]
  },
  {
   "cell_type": "code",
   "execution_count": null,
   "id": "d58ac35b-cf88-4bde-aaa6-a8dee22e262f",
   "metadata": {},
   "outputs": [],
   "source": [
    "from tensorflow.keras.callbacks import EarlyStopping\n",
    "\n",
    "model_es = Sequential()\n",
    "\n",
    "n_input = X_train_sc.shape[1]\n",
    "\n",
    "model_es.add(Dense(17, input_dim=n_input, activatioan='relu'))\n",
    "model_es.add(Dense(10, activation='relu'))\n",
    "model_es.add(Dense(1))\n",
    "\n",
    "model_es.compile(loss='mse', optimizer='adam', metrics=['mae', 'acc'])\n",
    "\n",
    "early_stop = EarlyStopping(monitor='val_loss', min_delta=0, patience=5, verbose=1, mode='auto')\n",
    "\n",
    "history_es = model_es.fit(\n",
    "    X_train,\n",
    "    y_train,\n",
    "    validation_data=(X_test_sc, y_test),\n",
    "    epochs=100,\n",
    "    batch_size=None,\n",
    "    callbacks=[early_stop]\n",
    ")"
   ]
  },
  {
   "cell_type": "code",
   "execution_count": null,
   "id": "4aafdf1f-4060-420b-a1d3-bb9fb6eb9eaa",
   "metadata": {},
   "outputs": [],
   "source": [
    "model.predict(X_test_sc)"
   ]
  },
  {
   "cell_type": "code",
   "execution_count": null,
   "id": "ecd85a9d-cd7c-4628-bfb6-4d08be2c2f74",
   "metadata": {},
   "outputs": [],
   "source": [
    "model.evaluate(X_test_sc, y_test) # kind of like .score() in sklearn"
   ]
  },
  {
   "cell_type": "code",
   "execution_count": null,
   "id": "df0ed3bc-db5b-407d-96d7-47010788fa32",
   "metadata": {},
   "outputs": [],
   "source": [
    "from tensorflow.keras.regularizers import l2\n",
    "\n",
    "model_l2 = Sequential()\n",
    "\n",
    "n_input = X_train.shape[1]\n",
    "\n",
    "model_l2.add(Dense(\n",
    "    17,\n",
    "    input_dim=n_input,\n",
    "    activation='relu',\n",
    "    kernel_regularizer=l2(0.001)\n",
    "))\n",
    "\n",
    "model_l2.add(Dense(\n",
    "    10,\n",
    "    activation='relu',\n",
    "    kernel_regularizer=l2(0.001)\n",
    "))\n",
    "\n",
    "model_l2.add(Dense(\n",
    "    1,\n",
    "    kernel_regularizer=l2(0.001)\n",
    "))\n",
    "\n",
    "model_l2.compile(\n",
    "    loss='mse',\n",
    "    optimizer='adam',\n",
    "    metrics=['acc', 'mae']\n",
    ")\n",
    "\n",
    "history_l2 = model_l2.fit(\n",
    "    X_train_sc,\n",
    "    y_train,\n",
    "    validation_data=(X_test_sc, y_test),\n",
    "    epochs=100,\n",
    "    batch_size=None\n",
    ")"
   ]
  },
  {
   "cell_type": "code",
   "execution_count": null,
   "id": "96215669-b637-4624-8790-0b3443e2e094",
   "metadata": {},
   "outputs": [],
   "source": [
    "model.predict(X_test_sc)"
   ]
  },
  {
   "cell_type": "code",
   "execution_count": null,
   "id": "4a5a1589-356c-4ce4-b213-1c4353deb1fb",
   "metadata": {},
   "outputs": [],
   "source": [
    "model.evaluate(X_test_sc, y_test) # kind of like .score() in sklearn"
   ]
  },
  {
   "cell_type": "code",
   "execution_count": null,
   "id": "cd30421f-97df-4d72-8170-f6c1a0a42a41",
   "metadata": {},
   "outputs": [],
   "source": [
    "from tensorflow.keras.layers import Dropout\n",
    "\n",
    "model_dropout = Sequential()\n",
    "\n",
    "n_input = X_train.shape[1]\n",
    "n_hidden = n_input\n",
    "\n",
    "model_dropout.add(Dense(n_hidden, input_dim=n_input, activation='relu'))\n",
    "model_dropout.add(Dropout(0.2)) # refers to nodes in the first hidden layer\n",
    "model_dropout.add(Dense(10, activation='relu'))\n",
    "model_dropout.add(Dropout(0.2))\n",
    "model_dropout.add(Dense(1))\n",
    "\n",
    "model_dropout.compile(loss='mse', optimizer='adam', metrics=['acc', 'mae'])\n",
    "\n",
    "history_dropout = model_dropout.fit(\n",
    "    X_train_sc,\n",
    "    y_train,\n",
    "    validation_data=(X_test_sc, y_test), \n",
    "    epochs=100,\n",
    "    batch_size=None\n",
    ")"
   ]
  },
  {
   "cell_type": "code",
   "execution_count": null,
   "id": "b6ff6a4f-4e65-4dc6-9625-ce13042878b6",
   "metadata": {},
   "outputs": [],
   "source": [
    "model.predict(X_test_sc)"
   ]
  },
  {
   "cell_type": "code",
   "execution_count": null,
   "id": "da253ab2-380d-45ed-b8e5-d211105cb854",
   "metadata": {},
   "outputs": [],
   "source": [
    "model.evaluate(X_test_sc, y_test) # kind of like .score() in sklearn"
   ]
  },
  {
   "cell_type": "markdown",
   "id": "cde93ff8-1559-4ed8-b2de-71384cd21323",
   "metadata": {},
   "source": [
    "## Annie"
   ]
  },
  {
   "cell_type": "markdown",
   "id": "38e94e9b-5bcb-488e-845b-314bdb282835",
   "metadata": {},
   "source": [
    "### KNN and Gradient Boosting Classifier"
   ]
  },
  {
   "cell_type": "code",
   "execution_count": null,
   "id": "beefb2bb-d22a-4db6-86a6-a860ea77c364",
   "metadata": {},
   "outputs": [],
   "source": [
    "df = pd.read_csv('../Data/salary_cleaned.csv')\n",
    "df.head()"
   ]
  },
  {
   "cell_type": "code",
   "execution_count": null,
   "id": "c59b39a3-ca1c-4a83-89fb-9bd4a40de858",
   "metadata": {},
   "outputs": [],
   "source": [
    "df.info()"
   ]
  },
  {
   "cell_type": "code",
   "execution_count": null,
   "id": "05b7f769-62e3-4f4b-8082-86761d7dddc3",
   "metadata": {},
   "outputs": [],
   "source": [
    "# convert year and month from integer to string\n",
    "df['year'] = df['year'].astype(str)\n",
    "df['month'] = df['month'].astype(str)\n",
    "df.info()"
   ]
  },
  {
   "cell_type": "code",
   "execution_count": null,
   "id": "79421e03-512f-420a-9644-e9069053564c",
   "metadata": {},
   "outputs": [],
   "source": [
    "df['location'].value_counts(normalize=True)"
   ]
  },
  {
   "cell_type": "code",
   "execution_count": null,
   "id": "c73571da-2f9b-49a2-8c8b-d8b1ae9295dc",
   "metadata": {},
   "outputs": [],
   "source": [
    "# create \n",
    "features_all = ['company', 'title', 'location', 'yearsofexperience', 'yearsatcompany', 'year', 'month', 'year_month', 'state_short', 'inflation_rate', 'inflation_rate_3mos', 'employment_rate', 'employment_rate_3mos']\n",
    "features_short = ['company', 'title', 'yearsofexperience', 'yearsatcompany', 'year', 'month', 'state', 'inflation_rate', 'inflation_rate_3mos', 'employment_rate', 'employment_rate_3mos']\n",
    "\n",
    "X = df[features_short]\n",
    "y = df['totalyearlycompensation']\n",
    "X.shape, y.shape"
   ]
  },
  {
   "cell_type": "code",
   "execution_count": null,
   "id": "b230ccf5-a412-4f8e-899d-77c3324dfaf9",
   "metadata": {},
   "outputs": [],
   "source": [
    "X_train, X_test, y_train, y_test = train_test_split(X, y, random_state=42)\n",
    "X_train.shape, y_train.shape, X_test.shape, y_test.shape"
   ]
  },
  {
   "cell_type": "code",
   "execution_count": null,
   "id": "4df46ef5-9467-46d7-bc51-3e44ae84da13",
   "metadata": {},
   "outputs": [],
   "source": [
    "X_train.head()"
   ]
  },
  {
   "cell_type": "markdown",
   "id": "54407911-e637-482f-8290-163e83789e53",
   "metadata": {},
   "source": [
    "#### Transform Data: Standardize and OneHotEncoding"
   ]
  },
  {
   "cell_type": "code",
   "execution_count": null,
   "id": "9d07974f-9bd9-48d9-a412-d1bfd122d295",
   "metadata": {},
   "outputs": [],
   "source": [
    "ct = ColumnTransformer([\n",
    "    ('sc', StandardScaler(), make_column_selector(dtype_include=np.number)),\n",
    "    #('ohe', OneHotEncoder(handle_unknown='ignore'), make_column_selector(dtype_include=object)),\n",
    "    #('ohe', OneHotEncoder(handle_unknown='ignore'), ['company','title','year','month','state']),\n",
    "    ('ohe', OneHotEncoder(handle_unknown='ignore'), [0,1,6])\n",
    "    ])\n",
    "\n",
    "X_train_ct = ct.fit_transform(X_train)\n",
    "X_test_ct = ct.transform(X_test)"
   ]
  },
  {
   "cell_type": "code",
   "execution_count": null,
   "id": "d134103f-c622-455b-b710-3dc2638b80a5",
   "metadata": {},
   "outputs": [],
   "source": [
    "X_train_ct.shape"
   ]
  },
  {
   "cell_type": "code",
   "execution_count": null,
   "id": "0a40666b-e131-4d75-aa9d-d1bed0702d81",
   "metadata": {},
   "outputs": [],
   "source": [
    "X_train"
   ]
  },
  {
   "cell_type": "code",
   "execution_count": null,
   "id": "2c7b4388-5a7d-4a94-9dae-b3f513f6b860",
   "metadata": {},
   "outputs": [],
   "source": [
    "ct.get_feature_names_out()"
   ]
  },
  {
   "cell_type": "markdown",
   "id": "cba7e68e-2194-47fc-b399-34434a70849d",
   "metadata": {},
   "source": [
    "### KNN"
   ]
  },
  {
   "cell_type": "code",
   "execution_count": null,
   "id": "b6ebb556-8e69-4e63-a06e-06017e31955e",
   "metadata": {},
   "outputs": [],
   "source": [
    "knn = KNeighborsRegressor(n_jobs=-1)\n",
    "\n",
    "knn_params = {\n",
    "    'n_neighbors': [3,5,7,9,11,13,15,17,19]\n",
    "    ,'weights': ['uniform', 'distance']\n",
    "    ,'p': [1,2]   # this one makes the training time much longer, and didn't improve R2 significantly\n",
    "}\n",
    "\n",
    "gs_knn = GridSearchCV(estimator = knn,\n",
    "                     param_grid = knn_params,\n",
    "                     cv = 5)\n",
    "\n",
    "# train the model\n",
    "\n",
    "print(datetime.datetime.now())\n",
    "\n",
    "gs_knn.fit(X_train_ct, y_train)\n",
    "\n",
    "print(datetime.datetime.now())\n",
    "print()"
   ]
  },
  {
   "cell_type": "code",
   "execution_count": null,
   "id": "f9d9ecfb-b559-4f9c-9641-1dc07aedbca7",
   "metadata": {},
   "outputs": [],
   "source": [
    "# predict\n",
    "knn_pred_train = gs_knn.predict(X_train_ct)\n",
    "knn_pred_test = gs_knn.predict(X_test_ct)\n",
    "\n",
    "# evaluate\n",
    "gs_knn_R2_train = gs_knn.score(X_train_ct, y_train)\n",
    "gs_knn_R2_test = gs_knn.score(X_test_ct, y_test)\n",
    "\n",
    "print(f'gs_knn_R2_train: {round(gs_knn_R2_train, 4)}')\n",
    "print(f'gs_knn_R2_test: {round(gs_knn_R2_test, 4)}')"
   ]
  },
  {
   "cell_type": "code",
   "execution_count": null,
   "id": "e6fdb35c-957d-4d08-8bc5-7bad83a07893",
   "metadata": {},
   "outputs": [],
   "source": [
    "gs_knn_mse_train = metrics.mean_squared_error(y_train, knn_pred_train)\n",
    "gs_knn_mse_test = metrics.mean_squared_error(y_test, knn_pred_test)\n",
    "\n",
    "print(f'gs_knn_mse_train: {round(gs_knn_mse_train, 4)}')\n",
    "print(f'gs_knn_mse_test: {round(gs_knn_mse_test, 4)}')"
   ]
  },
  {
   "cell_type": "code",
   "execution_count": null,
   "id": "9d471839-fd78-4bd1-9141-cf4f7a7ec463",
   "metadata": {},
   "outputs": [],
   "source": [
    "perf_dict = {\n",
    "    'R2':[gs_knn_R2_train, gs_knn_R2_test],\n",
    "    'mse':[gs_knn_mse_train, gs_knn_mse_test]\n",
    "}"
   ]
  },
  {
   "cell_type": "code",
   "execution_count": null,
   "id": "175089a6-af57-4a32-b3b9-55f709401cf1",
   "metadata": {},
   "outputs": [],
   "source": [
    "perf_df = pd.DataFrame(perf_dict, index=['Train','Test'])\n"
   ]
  },
  {
   "cell_type": "code",
   "execution_count": null,
   "id": "ddf6a490-9e8b-4375-96bb-2c92d5c076f8",
   "metadata": {},
   "outputs": [],
   "source": [
    "gs_knn.best_estimator_"
   ]
  },
  {
   "cell_type": "markdown",
   "id": "43df0c1e-66ee-4ccc-81e9-d885368866f5",
   "metadata": {},
   "source": [
    "#### Pickling and Saving the model"
   ]
  },
  {
   "cell_type": "code",
   "execution_count": null,
   "id": "b6b8b004-dad1-4f82-b655-26473a23c7e8",
   "metadata": {},
   "outputs": [],
   "source": [
    "with open('../Models/totalcomp_gs_knn.pkl', 'wb') as f:\n",
    "    pickle.dump(gs_knn, f)"
   ]
  },
  {
   "cell_type": "code",
   "execution_count": null,
   "id": "62f952dd-d4b8-49d7-a0f0-9bc56539af04",
   "metadata": {},
   "outputs": [],
   "source": [
    "'''\n",
    "with open('../Models/totalcomp_gs_knn.pkl', 'rb') as f:\n",
    "    gs_knn = pickle.load(f)\n",
    "'''"
   ]
  },
  {
   "cell_type": "code",
   "execution_count": null,
   "id": "6ee8115a-a560-4081-a416-14fb5ee69976",
   "metadata": {},
   "outputs": [],
   "source": [
    "#gs_knn.cv_results_"
   ]
  },
  {
   "cell_type": "code",
   "execution_count": null,
   "id": "90690370-718a-42c6-b25a-186b1f5212d4",
   "metadata": {},
   "outputs": [],
   "source": [
    "#pd.DataFrame(gs_knn.cv_results_)"
   ]
  },
  {
   "cell_type": "markdown",
   "id": "cfa7612b-dd3d-4f9b-9e9a-c3f3d6be199e",
   "metadata": {},
   "source": [
    "**Observation**: \n",
    "1. Comparing the R2 score and mse between the training and testing sets, the model is very overfit.\n",
    "2. The best model from grid search CV uses 13 nearest neighbors, p=1, and distance as weights."
   ]
  },
  {
   "cell_type": "markdown",
   "id": "ad6c77b7-04b1-4224-b4b4-65406c0428ac",
   "metadata": {},
   "source": [
    "### Gradient Boosting Regressor"
   ]
  },
  {
   "cell_type": "markdown",
   "id": "e50208d7-eb74-4334-8fec-a6dda93f5cf8",
   "metadata": {},
   "source": [
    "#### No Gridsearch"
   ]
  },
  {
   "cell_type": "code",
   "execution_count": null,
   "id": "11b0b217-6db1-48dd-b8b5-9182be78b996",
   "metadata": {},
   "outputs": [],
   "source": [
    "# fit the model\n",
    "gbr = GradientBoostingRegressor(n_estimators=400,\n",
    "                                max_depth=3,\n",
    "                                max_features=800,\n",
    "                                random_state=42)\n",
    "\n",
    "print(datetime.datetime.now())\n",
    "\n",
    "gbr.fit(X_train_ct, y_train)\n",
    "\n",
    "print(datetime.datetime.now())"
   ]
  },
  {
   "cell_type": "code",
   "execution_count": null,
   "id": "d5b05f95-9bed-49b9-aae1-bbdd5920d5ed",
   "metadata": {},
   "outputs": [],
   "source": [
    "# predict\n",
    "gbr_pred_train = gbr.predict(X_train_ct)\n",
    "gbr_pred_test = gbr.predict(X_test_ct)\n",
    "\n",
    "# evaluate\n",
    "gbr_R2_train = gbr.score(X_train_ct, y_train)\n",
    "gbr_R2_test = gbr.score(X_test_ct, y_test)\n",
    "\n",
    "gbr_mse_train = metrics.mean_squared_error(y_train, gbr_pred_train)\n",
    "gbr_mse_test = metrics.mean_squared_error(y_test, gbr_pred_test)\n",
    "\n",
    "gbr_perf_dict = {\n",
    "    'R2': [gbr_R2_train, gbr_R2_test],\n",
    "    'MSE': [gbr_mse_train, gbr_mse_test]\n",
    "}\n",
    "\n",
    "gbr_perf_df = pd.DataFrame(gbr_perf_dict, index=['Train','Test'])\n",
    "gbr_perf_df.T"
   ]
  },
  {
   "cell_type": "markdown",
   "id": "783fc2f0-d9d8-45fb-9010-dd817058e8b9",
   "metadata": {},
   "source": [
    "#### GridSearchCV"
   ]
  },
  {
   "cell_type": "markdown",
   "id": "4ba5f513-67ad-4d83-a6c8-fed4573e1790",
   "metadata": {},
   "source": [
    "##### GridSearch 0 \n",
    "Model No. 0: killed after running for 19 hours"
   ]
  },
  {
   "cell_type": "markdown",
   "id": "f30e01f1-d5fc-4362-a691-9ec61e356d0b",
   "metadata": {},
   "source": [
    "##### GridSearch 1"
   ]
  },
  {
   "cell_type": "code",
   "execution_count": null,
   "id": "0eb45495-be43-4214-888e-bed00af9e8f0",
   "metadata": {},
   "outputs": [],
   "source": [
    "# build the grid search for hyperparameters \n",
    "\n",
    "gbr = GradientBoostingRegressor(random_state=42)\n",
    "\n",
    "gbr_params = {\n",
    "    'n_estimators': [300,400,500],\n",
    "    #'learning_rate': [0.01, 0.1],\n",
    "    'max_depth': [5,6,7,8],\n",
    "    #'min_samples_split': [5,7,10],\n",
    "    #'min_samples_leaf': [2,3,5],\n",
    "    'max_features': [100,150,200]\n",
    "}\n",
    "\n",
    "gs_gbr = GridSearchCV(gbr,\n",
    "                     gbr_params,\n",
    "                     cv=5)\n",
    "\n",
    "# train\n",
    "\n",
    "print(datetime.datetime.now())\n",
    "\n",
    "gs_gbr.fit(X_train_ct, y_train)\n",
    "\n",
    "print(datetime.datetime.now())"
   ]
  },
  {
   "cell_type": "code",
   "execution_count": null,
   "id": "401e6fd7-1365-46b1-9bc4-400c907304a5",
   "metadata": {},
   "outputs": [],
   "source": [
    "# predict\n",
    "\n",
    "gs_gbr_pred_train = gs_gbr.predict(X_train_ct)\n",
    "gs_gbr_pred_test = gs_gbr.predict(X_test_ct)\n",
    "\n",
    "# evaluate\n",
    "\n",
    "gs_gbr_R2_train = gs_gbr.score(X_train_ct, y_train)\n",
    "gs_gbr_R2_test = gs_gbr.score(X_test_ct, y_test)\n",
    "\n",
    "print(f'gs_gbr_R2_train: {round(gs_gbr_R2_train, 4)}')\n",
    "print(f'gs_gbr_R2_test: {round(gs_gbr_R2_test, 4)}')\n",
    "print()\n",
    "\n",
    "gs_gbr_mse_train = metrics.mean_squared_error(y_train, gs_gbr_pred_train)\n",
    "gs_gbr_mse_test = metrics.mean_squared_error(y_test, gs_gbr_pred_test)\n",
    "\n",
    "print(f'gs_gbr_mse_train: {round(gs_gbr_mse_train, 4)}')\n",
    "print(f'gs_gbr_mse_test: {round(gs_gbr_mse_test, 4)}')\n",
    "\n",
    "gs_gbr_perf_dict = {\n",
    "    'R2': [gs_gbr_R2_train, gs_gbr_R2_test],\n",
    "    'MSE': [gs_gbr_mse_train, gs_gbr_mse_test]\n",
    "}\n",
    "\n",
    "gs_gbr_perf_df = pd.DataFrame(gs_gbr_perf_dict, index=['Train','Test'])\n",
    "gs_gbr_perf_df.T"
   ]
  },
  {
   "cell_type": "code",
   "execution_count": null,
   "id": "f0da2213-991e-43f5-bb6f-8a958b48c9ca",
   "metadata": {},
   "outputs": [],
   "source": [
    "gs_gbr.best_estimator_"
   ]
  },
  {
   "cell_type": "code",
   "execution_count": null,
   "id": "e1cb168a-37f8-4281-98d6-4fba3cc8a374",
   "metadata": {},
   "outputs": [],
   "source": [
    "gs_gbr.best_score_"
   ]
  },
  {
   "cell_type": "code",
   "execution_count": null,
   "id": "273ef235-b3d4-49e0-808f-7ce6eb1a01cb",
   "metadata": {},
   "outputs": [],
   "source": [
    "# pd.DataFrame(gs_gbr.cv_results_)"
   ]
  },
  {
   "cell_type": "markdown",
   "id": "46c2efc3-70ee-451b-80bb-9b22dc24b88f",
   "metadata": {},
   "source": [
    "##### GridSearch 2"
   ]
  },
  {
   "cell_type": "code",
   "execution_count": null,
   "id": "f1ceb1ce-c517-4383-aee2-826299819b8f",
   "metadata": {},
   "outputs": [],
   "source": [
    "# build the grid search for hyperparameters \n",
    "\n",
    "gbr2 = GradientBoostingRegressor(random_state=42)\n",
    "\n",
    "gbr2_params = {\n",
    "    'n_estimators': [400],\n",
    "    #'learning_rate': [0.01, 0.1],\n",
    "    'max_depth': [3,4,5,6],\n",
    "    #'min_samples_split': [5,7,10],\n",
    "    #'min_samples_leaf': [2,3,5],\n",
    "    'max_features': [200, 300]\n",
    "}\n",
    "\n",
    "gs_gbr2 = GridSearchCV(gbr2,\n",
    "                     gbr2_params,\n",
    "                     cv=5)\n",
    "\n",
    "# train\n",
    "\n",
    "print(datetime.datetime.now())\n",
    "\n",
    "gs_gbr2.fit(X_train_ct, y_train)\n",
    "\n",
    "print(datetime.datetime.now())"
   ]
  },
  {
   "cell_type": "code",
   "execution_count": null,
   "id": "f1febd53-05cf-44ba-a2e7-7f92e5e62d68",
   "metadata": {},
   "outputs": [],
   "source": [
    "# predict\n",
    "\n",
    "gs_gbr2_pred_train = gs_gbr2.predict(X_train_ct)\n",
    "gs_gbr2_pred_test = gs_gbr2.predict(X_test_ct)\n",
    "\n",
    "# evaluate\n",
    "\n",
    "gs_gbr2_R2_train = gs_gbr2.score(X_train_ct, y_train)\n",
    "gs_gbr2_R2_test = gs_gbr2.score(X_test_ct, y_test)\n",
    "\n",
    "print(f'gs_gbr2_R2_train: {round(gs_gbr2_R2_train, 4)}')\n",
    "print(f'gs_gbr2_R2_test: {round(gs_gbr2_R2_test, 4)}')\n",
    "print()\n",
    "\n",
    "gs_gbr2_mse_train = metrics.mean_squared_error(y_train, gs_gbr2_pred_train)\n",
    "gs_gbr2_mse_test = metrics.mean_squared_error(y_test, gs_gbr2_pred_test)\n",
    "\n",
    "print(f'gs_gbr2_mse_train: {round(gs_gbr2_mse_train, 4)}')\n",
    "print(f'gs_gbr2_mse_test: {round(gs_gbr2_mse_test, 4)}')\n",
    "\n",
    "gs_gbr2_perf_dict = {\n",
    "    'R2': [gs_gbr2_R2_train, gs_gbr2_R2_test],\n",
    "    'MSE': [gs_gbr2_mse_train, gs_gbr2_mse_test]\n",
    "}\n",
    "\n",
    "gs_gbr2_perf_df = pd.DataFrame(gs_gbr2_perf_dict, index=['Train','Test'])\n",
    "gs_gbr2_perf_df.T"
   ]
  },
  {
   "cell_type": "code",
   "execution_count": null,
   "id": "fa13ac69-7e3f-4061-907b-77624154d2f1",
   "metadata": {},
   "outputs": [],
   "source": [
    "gs_gbr2.best_estimator_"
   ]
  },
  {
   "cell_type": "code",
   "execution_count": null,
   "id": "33cc4383-db05-4b0f-bf2e-1fa7c192c601",
   "metadata": {},
   "outputs": [],
   "source": [
    "# pd.DataFrame(gs_gbr2.cv_results_)"
   ]
  },
  {
   "cell_type": "markdown",
   "id": "553ecca7-2e9b-42fc-ac9f-189d975fcb69",
   "metadata": {},
   "source": [
    "##### Pickling and Saving the Model"
   ]
  },
  {
   "cell_type": "code",
   "execution_count": null,
   "id": "db826975-2c8c-48f8-a934-f738429dd547",
   "metadata": {},
   "outputs": [],
   "source": [
    "with open('../Models/totalcomp_gs_gbr2.pkl', 'wb') as f:\n",
    "    pickle.dump(gs_gbr2, f)"
   ]
  },
  {
   "cell_type": "code",
   "execution_count": null,
   "id": "b0547178-40db-4fe0-8511-6fe158e2d171",
   "metadata": {},
   "outputs": [],
   "source": [
    "with open('../Models/totalcomp_gs_gbr2.pkl', 'rb') as f:\n",
    "    gs_gbr2 = pickle.load(f)"
   ]
  },
  {
   "cell_type": "code",
   "execution_count": null,
   "id": "19c72441-f988-407d-89a0-cba7f06cbbb6",
   "metadata": {},
   "outputs": [],
   "source": [
    "new_data = {\n",
    "    'company': 'Google', \n",
    "    'title': 'Data Scientist', \n",
    "    'yearsofexperience': '1', \n",
    "    'yearsatcompany': '0.1', \n",
    "    'year': '2020', \n",
    "    'month': '9', \n",
    "    'state': 'California', \n",
    "    'inflation_rate': '0.3', \n",
    "    'inflation_rate_3mos': '0.2', \n",
    "    'employment_rate': '0.99', \n",
    "    'employment_rate_3mos': '0.98'\n",
    "}\n",
    "\n",
    "new_data_df = pd.DataFrame(new_data, index=[0])\n",
    "new_data_df"
   ]
  },
  {
   "cell_type": "code",
   "execution_count": null,
   "id": "1d0e5eb9-9f0c-4dd2-89ea-f29113a1d46d",
   "metadata": {},
   "outputs": [],
   "source": [
    "new_data_df_ct = ct.transform(new_data_df)\n",
    "print(new_data_df_ct.shape)\n",
    "\n",
    "pred_gs_gbr2_new_data = gs_gbr2.predict(new_data_df_ct)\n",
    "pred_gs_gbr2_new_data"
   ]
  },
  {
   "cell_type": "markdown",
   "id": "9c67927a-671f-488e-afc0-720d9dbbe099",
   "metadata": {},
   "source": [
    "## Sileshi"
   ]
  },
  {
   "cell_type": "code",
   "execution_count": null,
   "id": "0a02be6b-dcc4-478d-8f98-81a1ea2e3cf4",
   "metadata": {},
   "outputs": [],
   "source": [
    "# Loading dataset\n",
    "df = pd.read_csv('./Data/salary_cleaned.csv')\n",
    "df.head()"
   ]
  },
  {
   "cell_type": "code",
   "execution_count": null,
   "id": "a3b12ff4-36c7-44f9-9492-52bf589d4d7c",
   "metadata": {},
   "outputs": [],
   "source": [
    "df.drop(columns = ['timestamp', 'location','level', 'timestamp_3mos', 'state'], inplace = True)"
   ]
  },
  {
   "cell_type": "code",
   "execution_count": null,
   "id": "1b211cc7-8366-40d6-ad58-0a8b24b2c7c0",
   "metadata": {},
   "outputs": [],
   "source": [
    "X = df[['company', 'title', 'yearsofexperience', 'yearsatcompany', 'year', 'month', 'state_short', 'inflation_rate',\n",
    "            'inflation_rate_3mos', 'employment_rate', 'employment_rate_3mos']].copy()\n",
    "X_dummy = pd.get_dummies(X, columns = ['company', 'title', 'state_short'], drop_first = True)\n",
    "\n",
    "y = df[['totalyearlycompensation']].copy()\n",
    "\n",
    "X_dummy.head()"
   ]
  },
  {
   "cell_type": "code",
   "execution_count": null,
   "id": "0418cec6-44a8-4c8f-b37f-9a087e804385",
   "metadata": {},
   "outputs": [],
   "source": [
    "X_train, X_test, y_train, y_test = train_test_split(X_dummy, y, test_size = 0.3, random_state = 42)"
   ]
  },
  {
   "cell_type": "code",
   "execution_count": null,
   "id": "29548bad-94ee-4d28-8480-21d0d1ba74d8",
   "metadata": {},
   "outputs": [],
   "source": [
    "#Feature Scaling\n",
    "\n",
    "sc = StandardScaler()\n",
    "\n",
    "X_train_ct = sc.fit_transform(X_train)\n",
    "X_test_ct = sc.transform(X_test)\n"
   ]
  },
  {
   "cell_type": "markdown",
   "id": "0efb1b7d-2a2a-4afb-8946-aa0a5facf5c6",
   "metadata": {},
   "source": [
    "### Linear Regression"
   ]
  },
  {
   "cell_type": "code",
   "execution_count": null,
   "id": "31f9ac37-878f-4743-b2d0-3647169a3b46",
   "metadata": {},
   "outputs": [],
   "source": [
    "lr = LinearRegression()\n",
    "lr.fit(X_train_ct,y_train)"
   ]
  },
  {
   "cell_type": "code",
   "execution_count": null,
   "id": "9de166a5-1faf-4a29-980e-54e62df96aac",
   "metadata": {},
   "outputs": [],
   "source": [
    "lr.score(X_train_ct,y_train), lr.score(X_test_ct,y_test)\n"
   ]
  },
  {
   "cell_type": "code",
   "execution_count": null,
   "id": "ef0861f6-ed7e-4aa6-8139-67a03e61f012",
   "metadata": {},
   "outputs": [],
   "source": [
    "def display_R2_scores(model, X_train_ct, y_train, X_test_ct, y_test):\n",
    "    print(f'The mean cross validation score: {round(cross_val_score(model, X_train_ct, y_train).mean(),4)}.')\n",
    "    print(f'Training score: {round(model.score(X_train_ct, y_train), 4)}.')\n",
    "    print(f'Testing score: {round(model.score(X_test_ct, y_test),4)}.')"
   ]
  },
  {
   "cell_type": "code",
   "execution_count": null,
   "id": "596ef106-687a-4327-8818-2aff6d868528",
   "metadata": {},
   "outputs": [],
   "source": [
    "display_R2_scores(lr, X_train_ct, y_train, X_test_ct, y_test)"
   ]
  },
  {
   "cell_type": "code",
   "execution_count": null,
   "id": "f1174d6c-67dd-4bc6-9e4d-a46f014c0a64",
   "metadata": {},
   "outputs": [],
   "source": [
    "pd.DataFrame(list(zip(X.columns, lr.coef_)), columns=['features', 'coefficients']).sort_values(by='coefficients', ascending=False).tail()"
   ]
  },
  {
   "cell_type": "code",
   "execution_count": null,
   "id": "96d75dab-48b6-4877-8098-68e1542db466",
   "metadata": {},
   "outputs": [],
   "source": [
    "intercept = lr.intercept_\n",
    "intercept"
   ]
  },
  {
   "cell_type": "code",
   "execution_count": null,
   "id": "0527b9a3-6034-4ede-9bed-a81982d47ddd",
   "metadata": {},
   "outputs": [],
   "source": [
    "lr_preds = lr.predict(X_test_ct)"
   ]
  },
  {
   "cell_type": "code",
   "execution_count": null,
   "id": "e29bfe5a-bd93-409a-9660-c0deed041f14",
   "metadata": {},
   "outputs": [],
   "source": [
    "# training data mse\n",
    "lr_predstr = lr.predict(X_train_ct)\n",
    "\n",
    "# testing data mse\n",
    "lr_predstst = lr.predict(X_test_ct)"
   ]
  },
  {
   "cell_type": "code",
   "execution_count": null,
   "id": "c396d833-2e4f-4a66-8fec-2fa6444f57a7",
   "metadata": {},
   "outputs": [],
   "source": [
    "print(round(metrics.mean_squared_error(y_test,lr_predstst), 4))"
   ]
  },
  {
   "cell_type": "markdown",
   "id": "5d4b58f1-9785-4a45-99cb-3ed941c6ae1c",
   "metadata": {},
   "source": [
    "### Lasso"
   ]
  },
  {
   "cell_type": "code",
   "execution_count": null,
   "id": "ee23b06e-b532-4c98-a2c3-1e5eaa11738f",
   "metadata": {},
   "outputs": [],
   "source": [
    "l_alphas = np.logspace(-1, 0,100)\n",
    "\n",
    "lasso_cv = LassoCV(alphas=l_alphas, cv=5, n_jobs=-1)\n",
    "\n",
    "lasso_cv.fit(X_train_ct, y_train);"
   ]
  },
  {
   "cell_type": "code",
   "execution_count": null,
   "id": "c3bd50a9-4498-44bf-9e39-ce60a6364561",
   "metadata": {},
   "outputs": [],
   "source": [
    "display_R2_scores(lasso_cv, X_train_ct, y_train, X_test_ct, y_test)"
   ]
  },
  {
   "cell_type": "code",
   "execution_count": null,
   "id": "f67c313a-78cb-4e9e-859d-ecea7a6260a6",
   "metadata": {},
   "outputs": [],
   "source": [
    "# training data mse\n",
    "lasso_predstr = lasso_cv.predict(X_train_ct)\n",
    "\n",
    "# testing data mse\n",
    "lasso_predstst = lasso_cv.predict(X_test_ct)"
   ]
  },
  {
   "cell_type": "markdown",
   "id": "99ebe361-4095-4983-aed3-892f52e2927a",
   "metadata": {},
   "source": [
    "### Ridge"
   ]
  },
  {
   "cell_type": "code",
   "execution_count": null,
   "id": "18c76069-41b1-4062-bcc3-9ccc35b6e4d4",
   "metadata": {},
   "outputs": [],
   "source": [
    "# Ridge\n",
    "\n",
    "r_alphas = np.logspace(0,5,100)\n",
    "\n",
    "ridge_cv = RidgeCV(alphas = r_alphas, scoring='r2', cv=5)\n",
    "\n",
    "ridge_cv.fit(X_train_ct, y_train);"
   ]
  },
  {
   "cell_type": "code",
   "execution_count": null,
   "id": "d9dbd4f7-7d7f-4480-992f-6a079918355b",
   "metadata": {},
   "outputs": [],
   "source": [
    "display_R2_scores(ridge_cv, X_train_ct, y_train, X_test_ct, y_test)"
   ]
  },
  {
   "cell_type": "code",
   "execution_count": null,
   "id": "d69364a2-fcef-4d6a-9833-38c24332f560",
   "metadata": {},
   "outputs": [],
   "source": [
    "# training mse\n",
    "ridge_predstr = ridge_cv.predict(X_train_ct)\n",
    "print(f'\\nRidge train data MSE: {metrics.mean_squared_error(y_train,ridge_predstr)}.')\n",
    "\n",
    "# testing data mse\n",
    "ridge_predstst = ridge_cv.predict(X_test_ct)\n",
    "print(f'Ridge test data MSE: {metrics.mean_squared_error(y_test,ridge_predstst)}.')"
   ]
  },
  {
   "cell_type": "markdown",
   "id": "ec58afd0-717e-4f29-9c0d-a2ca17e652fd",
   "metadata": {},
   "source": [
    "### Elastic Net"
   ]
  },
  {
   "cell_type": "code",
   "execution_count": null,
   "id": "284240e6-dcf5-4352-ad24-2da8fb3ee350",
   "metadata": {},
   "outputs": [],
   "source": [
    "e_alphas = np.logspace(0,5,100)\n",
    "\n",
    "elastic_cv = ElasticNetCV(alphas = e_alphas, cv=5)\n",
    "\n",
    "elastic_cv.fit(X_train_ct, y_train);"
   ]
  },
  {
   "cell_type": "code",
   "execution_count": null,
   "id": "08233bb9-5e18-40e5-bbfa-3e1262e4c8c7",
   "metadata": {},
   "outputs": [],
   "source": [
    "display_R2_scores(elastic_cv, X_train_ct, y_train, X_test_ct, y_test)"
   ]
  },
  {
   "cell_type": "code",
   "execution_count": null,
   "id": "9abba40f-db86-4174-ba13-ecdd9973ecf3",
   "metadata": {},
   "outputs": [],
   "source": [
    "# training data mse\n",
    "elastic_predstr = elastic_cv.predict(X_train_ct)\n",
    "\n",
    "# testing data mse\n",
    "elastic_predstst = elastic_cv.predict(X_test_ct)"
   ]
  },
  {
   "cell_type": "markdown",
   "id": "d61fd381-173b-461b-ba0e-003850ba88be",
   "metadata": {},
   "source": [
    "### MSE"
   ]
  },
  {
   "cell_type": "code",
   "execution_count": null,
   "id": "99dd35bd-6e09-4ce1-b8e5-8d1f1c5b3436",
   "metadata": {},
   "outputs": [],
   "source": [
    "# training/testing data mse\n",
    "print(\"MSE\".center(30, \"=\"))\n",
    "print(f'\\nLinear Regression train/test data MSE: {round(metrics.mean_squared_error(y_train,lr_predstr),4)}/{round(metrics.mean_squared_error(y_test,lr_predstst), 4)}, respectively.')\n",
    "print(f'Lasso train/test data MSE: {round(metrics.mean_squared_error(y_train,lasso_predstr),4)}/{round(metrics.mean_squared_error(y_test,lasso_predstst), 4)}, respectively.')\n",
    "print(f'Ridge train/test data MSE: {round(metrics.mean_squared_error(y_train,ridge_predstr),4)}/{round(metrics.mean_squared_error(y_test,ridge_predstst), 4)}, respectively.')\n",
    "print(f'Elastic Net train/test data MSE: {round(metrics.mean_squared_error(y_train,elastic_predstr),4)}/{round(metrics.mean_squared_error(y_test,elastic_predstst), 4)}, respectively.')\n"
   ]
  },
  {
   "cell_type": "markdown",
   "id": "eaac81da-1891-484e-9e04-1f2833515a96",
   "metadata": {},
   "source": [
    "### Final Scores"
   ]
  },
  {
   "cell_type": "code",
   "execution_count": null,
   "id": "ddbeb8bd-3807-4618-853d-b2db47f437ee",
   "metadata": {},
   "outputs": [],
   "source": [
    "print(\"Linear Regression\".center(30, \"=\"))\n",
    "display_R2_scores(lr, X_train_ct, y_train, X_test_ct, y_test)\n",
    "print()\n",
    "print(\"LASSO Regularization\".center(30, \"=\"))\n",
    "display_R2_scores(lasso_cv, X_train_ct, y_train, X_test_ct, y_test)\n",
    "\n",
    "print()\n",
    "print(\"Ridge Regularization\".center(30, \"=\"))\n",
    "display_R2_scores(ridge_cv, X_train_ct, y_train, X_test_ct, y_test)\n",
    "\n",
    "print()\n",
    "print(\"Elastic Net Regularization\".center(30, \"=\"))\n",
    "display_R2_scores(elastic_cv, X_train_ct, y_train, X_test_ct, y_test)\n"
   ]
  },
  {
   "cell_type": "markdown",
   "id": "10b0f435-b93b-449d-9fac-f58a77df1912",
   "metadata": {},
   "source": [
    "## Final Score\n",
    "\n",
    "|**Model**|**Training R^2 Score**|**Testing R^2 Score**|**RMSE (Train/Test)**|\n",
    "|--|--|--|--|\n",
    "|**Linear Regression**|0.5193|-0.7293Xe^23|8286.35/1224.82Xe^29|\n",
    "|**Lasso**|0.5182|0.5143|8305.30/8157.45|\n",
    "|**Ridge**|0.52|0.5097|8274.20/8234.28|\n",
    "|**Elastic Net**|0.4483|0.4499|9511.19/9238.88|"
   ]
  },
  {
   "cell_type": "code",
   "execution_count": null,
   "id": "52bb5142-537c-491d-87c2-b30a4c884b92",
   "metadata": {},
   "outputs": [],
   "source": [
    "intercept = ridge_cv.intercept_\n",
    "intercept"
   ]
  },
  {
   "cell_type": "markdown",
   "id": "08269302-d857-4383-8fff-492d80714898",
   "metadata": {},
   "source": [
    "## Mason"
   ]
  },
  {
   "cell_type": "code",
   "execution_count": null,
   "id": "486fb6c2-2e49-4e33-9460-14c425b85b0a",
   "metadata": {},
   "outputs": [],
   "source": [
    "# Loading dataset\n",
    "df = pd.read_csv('../Data/salary_cleaned.csv')\n",
    "df.head()"
   ]
  },
  {
   "cell_type": "code",
   "execution_count": null,
   "id": "f724191a-d47f-425b-9fbc-17603cdc4a82",
   "metadata": {},
   "outputs": [],
   "source": [
    "# Converting Year and Month to string \n",
    "df['year'] = df['year'].astype(str)\n",
    "df['month'] = df['month'].astype(str)\n",
    "df.info()"
   ]
  },
  {
   "cell_type": "code",
   "execution_count": null,
   "id": "c519d467-776f-4b2e-9ab9-bdcaca454f5d",
   "metadata": {},
   "outputs": [],
   "source": [
    "# Features and target variable\n",
    "features = ['company', 'title', 'yearsofexperience', 'yearsatcompany', 'year', 'month', 'state_short', 'inflation_rate', 'inflation_rate_3mos', 'employment_rate', 'employment_rate_3mos']\n",
    "\n",
    "X = df[features]\n",
    "y = df['totalyearlycompensation']"
   ]
  },
  {
   "cell_type": "code",
   "execution_count": null,
   "id": "62cbab1c-3733-4c5c-9f10-90b9a4402696",
   "metadata": {},
   "outputs": [],
   "source": [
    "# Train/Test Split\n",
    "\n",
    "X_train, X_test, y_train, y_test = train_test_split(X, y,random_state=42)"
   ]
  },
  {
   "cell_type": "code",
   "execution_count": null,
   "id": "c24a3229-f299-416c-9843-c2ef25a16ea1",
   "metadata": {},
   "outputs": [],
   "source": [
    "# ColumnTransformer\n",
    "ct = ColumnTransformer([\n",
    "    ('sc', StandardScaler(), make_column_selector(dtype_exclude=object)),\n",
    "    ('encoder', OneHotEncoder(handle_unknown='ignore'), ['company', 'title', 'state_short', 'year', 'month'])],\n",
    "    n_jobs=-1,\n",
    "    remainder='passthrough')"
   ]
  },
  {
   "cell_type": "code",
   "execution_count": null,
   "id": "15a0707b-71cf-4c23-a685-24e74943b893",
   "metadata": {},
   "outputs": [],
   "source": [
    "X_train_ct = ct.fit_transform(X_train)\n",
    "X_test_ct = ct.transform(X_test)"
   ]
  },
  {
   "cell_type": "code",
   "execution_count": null,
   "id": "1cc1b253-37ad-4888-a811-acf3b11e2487",
   "metadata": {},
   "outputs": [],
   "source": [
    "X_train_ct.shape"
   ]
  },
  {
   "cell_type": "code",
   "execution_count": null,
   "id": "74dec088-72c3-4813-94d1-a053dd7fee7b",
   "metadata": {},
   "outputs": [],
   "source": [
    "X_test_ct.shape"
   ]
  },
  {
   "cell_type": "markdown",
   "id": "0e903f44-b1ff-4734-a09f-5f8d17f12e27",
   "metadata": {},
   "source": [
    "#### RandomForest Regression"
   ]
  },
  {
   "cell_type": "code",
   "execution_count": null,
   "id": "473c8821-0494-4d44-9553-63d6581bd80a",
   "metadata": {
    "tags": []
   },
   "outputs": [],
   "source": [
    "# Instantiate RandomForestRegression\n",
    "rf = RandomForestRegressor()\n",
    "\n",
    "# Parameters\n",
    "rf_params={\n",
    "    'n_estimators':[100, 200],\n",
    "    'criterion': ['mse'],\n",
    "    'max_depth': [2, 5],\n",
    "    'min_samples_split': [2,4],\n",
    "    'min_samples_leaf': [1,3],\n",
    "    'random_state': [42]\n",
    "}\n",
    "\n",
    "# Instantiating RFR Gridsearch\n",
    "rf_gs = GridSearchCV(rf, rf_params, cv=5, verbose=1, n_jobs=-1)\n",
    "\n",
    "# Fitting GridSearch to the data\n",
    "rf_gs.fit(X_train_ct, y_train)"
   ]
  },
  {
   "cell_type": "code",
   "execution_count": null,
   "id": "c1bec8f6-782d-47b8-afe2-32847b7df7c2",
   "metadata": {},
   "outputs": [],
   "source": [
    "# Train/Test Scores\n",
    "print(f'Best Train Score: {rf_gs.best_score_}')\n",
    "print(f'Best Test Score: {rf_gs. score(X_test_ct, y_test)}')\n",
    "\n",
    "# Best Parameters\n",
    "print(f'Best parameters: {rf_gs.best_params_}')\n",
    "\n",
    "# Best Estimators\n",
    "print(f'Best Estimators: {rf_gs.best_estimator_}')"
   ]
  },
  {
   "cell_type": "markdown",
   "id": "65d77c9c-45c0-4026-844e-1746ed0ec593",
   "metadata": {},
   "source": [
    "#### AdaBoost Regression"
   ]
  },
  {
   "cell_type": "code",
   "execution_count": null,
   "id": "90d60858-2c56-4917-8f52-856f31757937",
   "metadata": {
    "scrolled": true,
    "tags": []
   },
   "outputs": [],
   "source": [
    "# Instantiate AdaBoostRegressor\n",
    "abr = AdaBoostRegressor()\n",
    "\n",
    "# Parameters\n",
    "abr_params ={\n",
    "    'base_estimator': [None],\n",
    "    'n_estimators': [50, 100, 150, 200],\n",
    "    'learning_rate': [1, 3],\n",
    "    'loss': ['linear', 'square', 'exponential'],\n",
    "    'random_state': [42]\n",
    "}\n",
    "\n",
    "# Instantiate ABR GridSearch\n",
    "abr_gs = GridSearchCV(abr, abr_params, cv=5, verbose=1, n_jobs=-1)\n",
    "\n",
    "# Fitting Gridsearch to the data\n",
    "abr_gs.fit(X_train_ct, y_train)"
   ]
  },
  {
   "cell_type": "code",
   "execution_count": null,
   "id": "dcf2a049-636a-442d-95bf-a03512b92177",
   "metadata": {},
   "outputs": [],
   "source": [
    "# Train/Test Scores\n",
    "print(f'Best Train Score: {rf_gs.best_score_}')\n",
    "print(f'Best Test Score: {rf_gs.score(X_test_ct, y_test)}')\n",
    "\n",
    "# Best Parameters\n",
    "print(f'Best parameters: {rf_gs.best_params_}')\n",
    "\n",
    "# Best Estimators\n",
    "print(f'Best Estimators: {rf_gs.best_estimator_}')"
   ]
  },
  {
   "cell_type": "code",
   "execution_count": null,
   "id": "3ba2886c-2045-478c-88f6-f63eace6dab7",
   "metadata": {},
   "outputs": [],
   "source": []
  },
  {
   "cell_type": "code",
   "execution_count": null,
   "id": "9b43de63-5d62-42cb-9c27-0a86ce7e58ce",
   "metadata": {},
   "outputs": [],
   "source": []
  },
  {
   "cell_type": "code",
   "execution_count": null,
   "id": "3b926442-2529-47b8-867b-395dbea4640b",
   "metadata": {},
   "outputs": [],
   "source": []
  },
  {
   "cell_type": "code",
   "execution_count": null,
   "id": "6b1f87dd-848d-497c-b97c-9a805243bdc1",
   "metadata": {},
   "outputs": [],
   "source": []
  },
  {
   "cell_type": "code",
   "execution_count": null,
   "id": "a125cffb-1ebc-45c8-aea8-f16429de89ee",
   "metadata": {},
   "outputs": [],
   "source": []
  },
  {
   "cell_type": "code",
   "execution_count": null,
   "id": "8db59ba7-9cf5-4ab6-9cf6-ca3c5b806893",
   "metadata": {},
   "outputs": [],
   "source": []
  },
  {
   "cell_type": "code",
   "execution_count": null,
   "id": "b88c4fc4-d2b2-4f3d-8e63-38ab9a7427f7",
   "metadata": {},
   "outputs": [],
   "source": []
  },
  {
   "cell_type": "code",
   "execution_count": null,
   "id": "90c809ab-74f4-420f-b191-b05172298950",
   "metadata": {},
   "outputs": [],
   "source": []
  },
  {
   "cell_type": "code",
   "execution_count": null,
   "id": "365cbefb-212c-48ed-a58d-e02b7c66634e",
   "metadata": {},
   "outputs": [],
   "source": []
  },
  {
   "cell_type": "code",
   "execution_count": null,
   "id": "491ad453-71ed-4606-b559-f72fcf565d9b",
   "metadata": {},
   "outputs": [],
   "source": []
  },
  {
   "cell_type": "code",
   "execution_count": null,
   "id": "4a01722d-96f5-4057-ad79-8cc0194722c0",
   "metadata": {},
   "outputs": [],
   "source": []
  },
  {
   "cell_type": "code",
   "execution_count": null,
   "id": "0d1c0dcd-4e3b-4820-afad-a69543e42bee",
   "metadata": {},
   "outputs": [],
   "source": []
  },
  {
   "cell_type": "code",
   "execution_count": null,
   "id": "b5a5d676-f37a-4b01-8460-dbd008b2a9b9",
   "metadata": {},
   "outputs": [],
   "source": []
  },
  {
   "cell_type": "code",
   "execution_count": null,
   "id": "602ea126-f722-4cb7-a4ac-dba134ec9c10",
   "metadata": {},
   "outputs": [],
   "source": []
  },
  {
   "cell_type": "code",
   "execution_count": null,
   "id": "0235ca01-b54a-4897-a2f6-6bc1e7765947",
   "metadata": {},
   "outputs": [],
   "source": []
  }
 ],
 "metadata": {
  "kernelspec": {
   "display_name": "Python [conda env:dsi-111]",
   "language": "python",
   "name": "conda-env-dsi-111-py"
  },
  "language_info": {
   "codemirror_mode": {
    "name": "ipython",
    "version": 3
   },
   "file_extension": ".py",
   "mimetype": "text/x-python",
   "name": "python",
   "nbconvert_exporter": "python",
   "pygments_lexer": "ipython3",
   "version": "3.8.8"
  }
 },
 "nbformat": 4,
 "nbformat_minor": 5
}
